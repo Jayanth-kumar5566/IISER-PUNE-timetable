{
 "cells": [
  {
   "cell_type": "code",
   "execution_count": 23,
   "metadata": {
    "collapsed": true
   },
   "outputs": [],
   "source": [
    "import pandas"
   ]
  },
  {
   "cell_type": "code",
   "execution_count": 24,
   "metadata": {
    "collapsed": true
   },
   "outputs": [],
   "source": [
    "df=pandas.read_excel(\"001_List_of_courses-SemV_VII.xlsx\")"
   ]
  },
  {
   "cell_type": "code",
   "execution_count": 25,
   "metadata": {
    "collapsed": false
   },
   "outputs": [],
   "source": [
    "df.head()\n",
    "del df[\"Name of Coordinator*, participating faculty\"]\n",
    "del df[\"Credits\"]\n",
    "del df[\"Open in semesters\"]"
   ]
  },
  {
   "cell_type": "code",
   "execution_count": 26,
   "metadata": {
    "collapsed": false
   },
   "outputs": [
    {
     "data": {
      "text/html": [
       "<div>\n",
       "<table border=\"1\" class=\"dataframe\">\n",
       "  <thead>\n",
       "    <tr style=\"text-align: right;\">\n",
       "      <th></th>\n",
       "      <th>Code</th>\n",
       "      <th>Course</th>\n",
       "    </tr>\n",
       "  </thead>\n",
       "  <tbody>\n",
       "    <tr>\n",
       "      <th>0</th>\n",
       "      <td>BIO 313</td>\n",
       "      <td>Advanced Molecular Biology</td>\n",
       "    </tr>\n",
       "    <tr>\n",
       "      <th>1</th>\n",
       "      <td>BIO 311</td>\n",
       "      <td>Advanced Cell Biology</td>\n",
       "    </tr>\n",
       "    <tr>\n",
       "      <th>2</th>\n",
       "      <td>BIO 310</td>\n",
       "      <td>Biostatistics</td>\n",
       "    </tr>\n",
       "    <tr>\n",
       "      <th>3</th>\n",
       "      <td>BIO 314</td>\n",
       "      <td>Bioinformatics</td>\n",
       "    </tr>\n",
       "    <tr>\n",
       "      <th>4</th>\n",
       "      <td>BIO 320</td>\n",
       "      <td>Genetics</td>\n",
       "    </tr>\n",
       "  </tbody>\n",
       "</table>\n",
       "</div>"
      ],
      "text/plain": [
       "      Code                      Course\n",
       "0  BIO 313  Advanced Molecular Biology\n",
       "1  BIO 311       Advanced Cell Biology\n",
       "2  BIO 310               Biostatistics\n",
       "3  BIO 314              Bioinformatics\n",
       "4  BIO 320                    Genetics"
      ]
     },
     "execution_count": 26,
     "metadata": {},
     "output_type": "execute_result"
    }
   ],
   "source": [
    "df.head()"
   ]
  },
  {
   "cell_type": "code",
   "execution_count": 27,
   "metadata": {
    "collapsed": false
   },
   "outputs": [],
   "source": [
    "df=df.set_index(\"Code\")"
   ]
  },
  {
   "cell_type": "code",
   "execution_count": 28,
   "metadata": {
    "collapsed": false
   },
   "outputs": [],
   "source": [
    "di=df.to_dict()"
   ]
  },
  {
   "cell_type": "code",
   "execution_count": 29,
   "metadata": {
    "collapsed": false
   },
   "outputs": [],
   "source": [
    "di=di.values()[0]"
   ]
  },
  {
   "cell_type": "code",
   "execution_count": 35,
   "metadata": {
    "collapsed": false
   },
   "outputs": [
    {
     "name": "stdout",
     "output_type": "stream",
     "text": [
      "('MTH430', 'Topics in Algebra: Lie Algebras')\n",
      "('BIO 320', 'Genetics')\n",
      "('BIO 321', 'Plant Biology I')\n",
      "('BIO 322', 'Biophysics-I')\n",
      "('PHY312', 'Electrodynamics')\n",
      "('CHM340', 'Advanced Organic Chemistry Laboratory')\n",
      "('CHM431', 'Chemical Biology')\n",
      "('CHM430', 'Advanced Physical Chemistry Laboratory')\n",
      "('BIO 301', 'Lab/Theory Project')\n",
      "('MTH401', 'Lab Training/Theory Project')\n",
      "('HSS401', 'Lab training/Theory project- Topics in the History of Science')\n",
      "('HSS312', 'Perspectives on Sound')\n",
      "('MTH412', 'Algebraic Topology')\n",
      "('MTH413', 'Algorithms')\n",
      "('MTH410', 'Galois Theory')\n",
      "('CHM320', 'Symmetry and Group Theory')\n",
      "('MTH415', 'Probability')\n",
      "('PHY330', 'Physics Lab IV')\n",
      "('ECS301', 'Lab Training/Theory project')\n",
      "('ECS325', 'Numerical Computation using MATLAB')\n",
      "('ECS322', 'Landscapes and Earth surface processes')\n",
      "('CHM301', 'Lab Training/ Theory Project \\xe2\\x80\\x94 I')\n",
      "('MTH301', 'Lab Training/Theory Project')\n",
      "('PHY334', 'Astronomy and Astrophysics')\n",
      "('HSS301', 'Lab training/Theory project- Topics in the History of Science')\n",
      "('ECS401', 'Lab Training/Theory project')\n",
      "('MTH417', 'Ordinary Differential Equations')\n",
      "('BIO 401', 'Lab/Theory Project')\n",
      "('PHY311', 'Classical Mechanics')\n",
      "('PHY453', 'Computational Physics')\n",
      "('BIO 353', 'Immunology II')\n",
      "('BIO 352', 'Animal Physiology II')\n",
      "('PHY412', 'Statistical Mechanics II')\n",
      "('CHM445', 'Electrochemistry')\n",
      "('PHY410', 'Physics Lab VI')\n",
      "('PHY411', 'Condensed Matter Physics I')\n",
      "('PHY461', 'Quantum Field Theory')\n",
      "('BIO 311', 'Advanced Cell Biology')\n",
      "('BIO 310', 'Biostatistics')\n",
      "('BIO 313', 'Advanced Molecular Biology')\n",
      "('BIO 334', 'Neurobiology I')\n",
      "('BIO 314', 'Bioinformatics')\n",
      "('PHY301', 'Lab Training/ Theory Project')\n",
      "('CHM401', 'Lab Training/ Theory Project \\xe2\\x80\\x94 II')\n",
      "('PHY340', 'Methods of Experimental Physics')\n",
      "('CHM421', 'Polymer Chemistry')\n",
      "('CHM436', 'Molecular Modelling and Simulation')\n",
      "('PHY310', 'Mathematical Methods in')\n",
      "('ECS330', 'Earth and Planetary Materials Lab')\n",
      "('MTH421', 'Measure Theory & Integration')\n",
      "('CHM311', 'Physical Organic Chemistry')\n",
      "('CHM312', 'Main Group Chemistry')\n",
      "('CHM432', 'Solid State Chemistry')\n",
      "('CHM332', 'Separation Principles and techniques')\n",
      "('CHM331', 'Self-Assembly in Chemistry')\n",
      "('HSS332', 'Art and Science of Numismatics')\n",
      "('MTH314', 'Statistical Inference')\n",
      "('MTH311', 'Analysis')\n",
      "('MTH310', 'Group Theory')\n",
      "('BIO 454', 'Structural Biology')\n",
      "('MTH312', 'Point Set Topology')\n",
      "('ECS316', 'Earth and Planetary Materials')\n",
      "('ECS315', 'Physics of Atmosphere & Ocean')\n",
      "('ECS314', 'Earth and Life History')\n",
      "('MTH318', 'Combinatorics')\n",
      "('PHY313', 'Quantum Mechanics I')\n",
      "('HSS411', 'Contemporary Women Novelists')\n",
      "('CHM413', 'Bioinorganic Chemistry')\n",
      "('BIO 431', 'Epigenetics')\n",
      "('CHM411', 'Organic Synthesis \\xe2\\x80\\x94 II')\n",
      "('CHM410', 'Advanced Molecular Spectroscopy')\n",
      "('PHY401', 'Lab Training/ Theory Project')\n",
      "('HSS351', 'Technological Evolution of')\n",
      "('PHY462', 'Plasma Physics')\n",
      "('BIO 410', 'Advanced Biochemistry I')\n",
      "('BIO 411', 'Ecology I')\n"
     ]
    }
   ],
   "source": [
    "file=open('forms.html','w')\n",
    "#<input type=\"checkbox\" name=\"course0\" value=\"BIO313(203)\"> BIO313<br>\n",
    "di\n",
    "count=0\n",
    "for i in di.keys():\n",
    "    print (i.encode('utf8'),di[i].encode('utf8'))\n",
    "    file.write(\"<input type='checkbox' name=course\"+str(count)+\" value=\"+'\"'+i.encode('utf8')+'\"> '+str(di[i].encode('utf8'))+\"<br>\"+'\\n')\n",
    "    count += 1\n",
    "file.close()\n",
    "    "
   ]
  },
  {
   "cell_type": "code",
   "execution_count": null,
   "metadata": {
    "collapsed": false
   },
   "outputs": [],
   "source": []
  },
  {
   "cell_type": "code",
   "execution_count": null,
   "metadata": {
    "collapsed": true
   },
   "outputs": [],
   "source": []
  }
 ],
 "metadata": {
  "kernelspec": {
   "display_name": "Python 2",
   "language": "python",
   "name": "python2"
  },
  "language_info": {
   "codemirror_mode": {
    "name": "ipython",
    "version": 2
   },
   "file_extension": ".py",
   "mimetype": "text/x-python",
   "name": "python",
   "nbconvert_exporter": "python",
   "pygments_lexer": "ipython2",
   "version": "2.7.9"
  }
 },
 "nbformat": 4,
 "nbformat_minor": 0
}
