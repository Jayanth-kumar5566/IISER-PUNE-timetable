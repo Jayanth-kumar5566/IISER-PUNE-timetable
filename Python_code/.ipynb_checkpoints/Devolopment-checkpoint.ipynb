{
 "cells": [
  {
   "cell_type": "code",
   "execution_count": 27,
   "metadata": {
    "collapsed": true
   },
   "outputs": [],
   "source": [
    "import pandas"
   ]
  },
  {
   "cell_type": "code",
   "execution_count": 28,
   "metadata": {
    "collapsed": true
   },
   "outputs": [],
   "source": [
    "import pandas\n",
    "df=pandas.read_excel(\"065634_Schedule_sem7.xlsx\") #Add the modified file name\n",
    "df=df.set_index(\"DAY\")\n",
    "def check(x):\n",
    "    return str(x).split('\\n')\n",
    "\n",
    "df=df.applymap(check)"
   ]
  },
  {
   "cell_type": "code",
   "execution_count": 29,
   "metadata": {
    "collapsed": false
   },
   "outputs": [
    {
     "data": {
      "text/html": [
       "<div>\n",
       "<table border=\"1\" class=\"dataframe\">\n",
       "  <thead>\n",
       "    <tr style=\"text-align: right;\">\n",
       "      <th></th>\n",
       "      <th>8:30-9:30</th>\n",
       "      <th>9:40-10:40</th>\n",
       "      <th>10:50-11:50</th>\n",
       "      <th>12:00-1:00</th>\n",
       "      <th>2:00-3:00</th>\n",
       "      <th>3:10-4:10</th>\n",
       "      <th>4:20-5:20</th>\n",
       "      <th>5:30-6:30</th>\n",
       "    </tr>\n",
       "    <tr>\n",
       "      <th>DAY</th>\n",
       "      <th></th>\n",
       "      <th></th>\n",
       "      <th></th>\n",
       "      <th></th>\n",
       "      <th></th>\n",
       "      <th></th>\n",
       "      <th></th>\n",
       "      <th></th>\n",
       "    </tr>\n",
       "  </thead>\n",
       "  <tbody>\n",
       "    <tr>\n",
       "      <th>MONDAY</th>\n",
       "      <td>[J, CHM311(201), MTH311(301), ECS314(206)]</td>\n",
       "      <td>[L, BI0321(203), MTH415(301), CHM445(201), PHY...</td>\n",
       "      <td>[H, BI0410(203), CHM320(201), MTH312(301), PHY...</td>\n",
       "      <td>[A, BI0310(203), CHM411(201), MTH410(301), PHY...</td>\n",
       "      <td>[I, BI0320(203), CHM312(201), MTH413(301), PHY...</td>\n",
       "      <td>[D, BI0322(203), CHM413(201), MTH421(301), PHY...</td>\n",
       "      <td>[F, BI0314(203), CHM421(201), MTH314(301), PHY...</td>\n",
       "      <td>[PHY Seminar, HSS312(206)]</td>\n",
       "    </tr>\n",
       "    <tr>\n",
       "      <th>TUESDAY</th>\n",
       "      <td>[L, BIO321(203), MTH415(301), PHY461(101), ECS...</td>\n",
       "      <td>[J, BIO334(203), CHM311(201), MTH311(301), ECS...</td>\n",
       "      <td>[B, BIO311(203), BIO352(206), CHM410(201), MTH...</td>\n",
       "      <td>[E, BIO431(205), CHM432(201), MTH318(301), PHY...</td>\n",
       "      <td>[C, BI0411(203), CHM431(201), MTH310(301), PHY...</td>\n",
       "      <td>[G, BI0313(203), BI0353(206), CHM436(201), MTH...</td>\n",
       "      <td>[D, BI0322(203), CHM413(201), MTH421(301), PHY...</td>\n",
       "      <td>[I, BI0320(203), CHM312(201), MTH413(301), PHY...</td>\n",
       "    </tr>\n",
       "    <tr>\n",
       "      <th>WEDNESDAY</th>\n",
       "      <td>[H, BIO410(203), CHM320(201), MTH312(301), PHY...</td>\n",
       "      <td>[J, BIO334(203), CHM311(201), MTH311(301), ECS...</td>\n",
       "      <td>[F, BI0314(203), CHM331(304), CHM421(201), MTH...</td>\n",
       "      <td>[A, BI0310(203), CHM411(201), MTH410(301), PHY...</td>\n",
       "      <td>[I, BI0320(203), CHM312(201), MTH413(301), PHY...</td>\n",
       "      <td>[L, BI0321(203), MTH415(301), CHM445(201), PHY...</td>\n",
       "      <td>[C, BIO411(203), MTH310(301), ECS325(303)]</td>\n",
       "      <td>[CHM Seminar, ECS325(303)]</td>\n",
       "    </tr>\n",
       "    <tr>\n",
       "      <th>THURSDAY</th>\n",
       "      <td>[B, BIO311(203), CHM410(201), MTH412(301), PHY...</td>\n",
       "      <td>[G, BIO313(203), BI0353(206), CHM436(201), MTH...</td>\n",
       "      <td>[F, BIO314(203), CHM331(304), CHM421(201), MTH...</td>\n",
       "      <td>[E, BIO431(205), CHM432(201), MTH318(301), PHY...</td>\n",
       "      <td>[K, BI0454(203), CHM332(201), MTH430(301), PHY...</td>\n",
       "      <td>[A, BI0310(203), CHM411(201), MTH410(301), PHY...</td>\n",
       "      <td>[H, BIO410(203), CHM320(201), MTH312(301), PHY...</td>\n",
       "      <td>[D, BI0322(203), CHM413(201), MTH421(301) , PH...</td>\n",
       "    </tr>\n",
       "    <tr>\n",
       "      <th>FRIDAY</th>\n",
       "      <td>[G, BI0313(203), MTH417(301), PHY340(101)]</td>\n",
       "      <td>[B, BI0311(203), BI0352(206), CHM410(201), MTH...</td>\n",
       "      <td>[K, BI0454(203), CHM332(201), MTH430(301), PHY...</td>\n",
       "      <td>[C, BI0411(203), CHM431(201), MTH310(301), PHY...</td>\n",
       "      <td>[MTH318(301), (2-3 PM)]</td>\n",
       "      <td>[PHY330, CHM340, CHM430, ECS330 labs (3.00-6.0...</td>\n",
       "      <td>[nan]</td>\n",
       "      <td>[nan]</td>\n",
       "    </tr>\n",
       "  </tbody>\n",
       "</table>\n",
       "</div>"
      ],
      "text/plain": [
       "                                                   8:30-9:30  \\\n",
       "DAY                                                            \n",
       "MONDAY            [J, CHM311(201), MTH311(301), ECS314(206)]   \n",
       "TUESDAY    [L, BIO321(203), MTH415(301), PHY461(101), ECS...   \n",
       "WEDNESDAY  [H, BIO410(203), CHM320(201), MTH312(301), PHY...   \n",
       "THURSDAY   [B, BIO311(203), CHM410(201), MTH412(301), PHY...   \n",
       "FRIDAY            [G, BI0313(203), MTH417(301), PHY340(101)]   \n",
       "\n",
       "                                                  9:40-10:40  \\\n",
       "DAY                                                            \n",
       "MONDAY     [L, BI0321(203), MTH415(301), CHM445(201), PHY...   \n",
       "TUESDAY    [J, BIO334(203), CHM311(201), MTH311(301), ECS...   \n",
       "WEDNESDAY  [J, BIO334(203), CHM311(201), MTH311(301), ECS...   \n",
       "THURSDAY   [G, BIO313(203), BI0353(206), CHM436(201), MTH...   \n",
       "FRIDAY     [B, BI0311(203), BI0352(206), CHM410(201), MTH...   \n",
       "\n",
       "                                                 10:50-11:50  \\\n",
       "DAY                                                            \n",
       "MONDAY     [H, BI0410(203), CHM320(201), MTH312(301), PHY...   \n",
       "TUESDAY    [B, BIO311(203), BIO352(206), CHM410(201), MTH...   \n",
       "WEDNESDAY  [F, BI0314(203), CHM331(304), CHM421(201), MTH...   \n",
       "THURSDAY   [F, BIO314(203), CHM331(304), CHM421(201), MTH...   \n",
       "FRIDAY     [K, BI0454(203), CHM332(201), MTH430(301), PHY...   \n",
       "\n",
       "                                                  12:00-1:00  \\\n",
       "DAY                                                            \n",
       "MONDAY     [A, BI0310(203), CHM411(201), MTH410(301), PHY...   \n",
       "TUESDAY    [E, BIO431(205), CHM432(201), MTH318(301), PHY...   \n",
       "WEDNESDAY  [A, BI0310(203), CHM411(201), MTH410(301), PHY...   \n",
       "THURSDAY   [E, BIO431(205), CHM432(201), MTH318(301), PHY...   \n",
       "FRIDAY     [C, BI0411(203), CHM431(201), MTH310(301), PHY...   \n",
       "\n",
       "                                                   2:00-3:00  \\\n",
       "DAY                                                            \n",
       "MONDAY     [I, BI0320(203), CHM312(201), MTH413(301), PHY...   \n",
       "TUESDAY    [C, BI0411(203), CHM431(201), MTH310(301), PHY...   \n",
       "WEDNESDAY  [I, BI0320(203), CHM312(201), MTH413(301), PHY...   \n",
       "THURSDAY   [K, BI0454(203), CHM332(201), MTH430(301), PHY...   \n",
       "FRIDAY                               [MTH318(301), (2-3 PM)]   \n",
       "\n",
       "                                                   3:10-4:10  \\\n",
       "DAY                                                            \n",
       "MONDAY     [D, BI0322(203), CHM413(201), MTH421(301), PHY...   \n",
       "TUESDAY    [G, BI0313(203), BI0353(206), CHM436(201), MTH...   \n",
       "WEDNESDAY  [L, BI0321(203), MTH415(301), CHM445(201), PHY...   \n",
       "THURSDAY   [A, BI0310(203), CHM411(201), MTH410(301), PHY...   \n",
       "FRIDAY     [PHY330, CHM340, CHM430, ECS330 labs (3.00-6.0...   \n",
       "\n",
       "                                                   4:20-5:20  \\\n",
       "DAY                                                            \n",
       "MONDAY     [F, BI0314(203), CHM421(201), MTH314(301), PHY...   \n",
       "TUESDAY    [D, BI0322(203), CHM413(201), MTH421(301), PHY...   \n",
       "WEDNESDAY         [C, BIO411(203), MTH310(301), ECS325(303)]   \n",
       "THURSDAY   [H, BIO410(203), CHM320(201), MTH312(301), PHY...   \n",
       "FRIDAY                                                 [nan]   \n",
       "\n",
       "                                                   5:30-6:30  \n",
       "DAY                                                           \n",
       "MONDAY                            [PHY Seminar, HSS312(206)]  \n",
       "TUESDAY    [I, BI0320(203), CHM312(201), MTH413(301), PHY...  \n",
       "WEDNESDAY                         [CHM Seminar, ECS325(303)]  \n",
       "THURSDAY   [D, BI0322(203), CHM413(201), MTH421(301) , PH...  \n",
       "FRIDAY                                                 [nan]  "
      ]
     },
     "execution_count": 29,
     "metadata": {},
     "output_type": "execute_result"
    }
   ],
   "source": [
    "df"
   ]
  },
  {
   "cell_type": "code",
   "execution_count": 30,
   "metadata": {
    "collapsed": true
   },
   "outputs": [],
   "source": [
    "c=\"BI0320(203)\"\n",
    "def course(x):\n",
    "    global c\n",
    "    if c in x:\n",
    "        return True\n",
    "    else:\n",
    "        return False\n",
    "cf=df.applymap(course)\n",
    "    \n",
    "    \n",
    "\n"
   ]
  },
  {
   "cell_type": "code",
   "execution_count": 31,
   "metadata": {
    "collapsed": false
   },
   "outputs": [
    {
     "name": "stdout",
     "output_type": "stream",
     "text": [
      "          8:30-9:30 9:40-10:40 10:50-11:50 12:00-1:00 2:00-3:00 3:10-4:10  \\\n",
      "DAY                                                                         \n",
      "MONDAY        False      False       False      False      True     False   \n",
      "TUESDAY       False      False       False      False     False     False   \n",
      "WEDNESDAY     False      False       False      False      True     False   \n",
      "THURSDAY      False      False       False      False     False     False   \n",
      "FRIDAY        False      False       False      False     False     False   \n",
      "\n",
      "          4:20-5:20 5:30-6:30  \n",
      "DAY                            \n",
      "MONDAY        False     False  \n",
      "TUESDAY       False      True  \n",
      "WEDNESDAY     False     False  \n",
      "THURSDAY      False     False  \n",
      "FRIDAY        False     False  \n"
     ]
    }
   ],
   "source": [
    "print cf"
   ]
  },
  {
   "cell_type": "code",
   "execution_count": 32,
   "metadata": {
    "collapsed": false
   },
   "outputs": [
    {
     "name": "stdout",
     "output_type": "stream",
     "text": [
      "('BI0320(203)', u'MONDAY', u'2:00-3:00')\n",
      "('BI0320(203)', u'TUESDAY', u'5:30-6:30')\n",
      "('BI0320(203)', u'WEDNESDAY', u'2:00-3:00')\n"
     ]
    }
   ],
   "source": [
    "for i in cf.index:\n",
    "    for j in df.columns:\n",
    "        if cf[j][i] == True:\n",
    "            print (c,i,j)"
   ]
  },
  {
   "cell_type": "code",
   "execution_count": null,
   "metadata": {
    "collapsed": true
   },
   "outputs": [],
   "source": []
  }
 ],
 "metadata": {
  "kernelspec": {
   "display_name": "Python 2",
   "language": "python",
   "name": "python2"
  },
  "language_info": {
   "codemirror_mode": {
    "name": "ipython",
    "version": 2
   },
   "file_extension": ".py",
   "mimetype": "text/x-python",
   "name": "python",
   "nbconvert_exporter": "python",
   "pygments_lexer": "ipython2",
   "version": "2.7.9"
  }
 },
 "nbformat": 4,
 "nbformat_minor": 0
}
